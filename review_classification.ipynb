{
 "cells": [
  {
   "metadata": {},
   "cell_type": "markdown",
   "source": "# 一、 数据处理\n",
   "id": "659b364e4270ae7d"
  },
  {
   "metadata": {},
   "cell_type": "markdown",
   "source": "## 1. 读取数据",
   "id": "475d6886bf44a2c7"
  },
  {
   "metadata": {
    "ExecuteTime": {
     "end_time": "2025-10-15T01:40:02.405370Z",
     "start_time": "2025-10-15T01:40:01.885377Z"
    }
   },
   "cell_type": "code",
   "source": [
    "import pandas as pd\n",
    "\n",
    "# 训练数据\n",
    "train = pd.read_csv(\"labeledTrainData.tsv\", header=0, delimiter='\\t', quoting=3)\n",
    "# 测试数据\n",
    "test = pd.read_csv(\"testData.tsv\", header=0, delimiter='\\t', quoting=3)\n",
    "\n",
    "# 查看数据前5行\n",
    "print(train.head())\n",
    "# 查看数据集的大小\n",
    "print(train.shape)\n",
    "print(test.shape)\n",
    "# 查看列\n",
    "print(train.columns.values)\n",
    "# 查看一则评论\n",
    "print(train[\"review\"][0])"
   ],
   "id": "5a70ec0815b36a25",
   "outputs": [
    {
     "name": "stdout",
     "output_type": "stream",
     "text": [
      "         id  sentiment                                             review\n",
      "0  \"5814_8\"          1  \"With all this stuff going down at the moment ...\n",
      "1  \"2381_9\"          1  \"\\\"The Classic War of the Worlds\\\" by Timothy ...\n",
      "2  \"7759_3\"          0  \"The film starts with a manager (Nicholas Bell...\n",
      "3  \"3630_4\"          0  \"It must be assumed that those who praised thi...\n",
      "4  \"9495_8\"          1  \"Superbly trashy and wondrously unpretentious ...\n",
      "(25000, 3)\n",
      "(25000, 2)\n",
      "['id' 'sentiment' 'review']\n",
      "\"With all this stuff going down at the moment with MJ i've started listening to his music, watching the odd documentary here and there, watched The Wiz and watched Moonwalker again. Maybe i just want to get a certain insight into this guy who i thought was really cool in the eighties just to maybe make up my mind whether he is guilty or innocent. Moonwalker is part biography, part feature film which i remember going to see at the cinema when it was originally released. Some of it has subtle messages about MJ's feeling towards the press and also the obvious message of drugs are bad m'kay.<br /><br />Visually impressive but of course this is all about Michael Jackson so unless you remotely like MJ in anyway then you are going to hate this and find it boring. Some may call MJ an egotist for consenting to the making of this movie BUT MJ and most of his fans would say that he made it for the fans which if true is really nice of him.<br /><br />The actual feature film bit when it finally starts is only on for 20 minutes or so excluding the Smooth Criminal sequence and Joe Pesci is convincing as a psychopathic all powerful drug lord. Why he wants MJ dead so bad is beyond me. Because MJ overheard his plans? Nah, Joe Pesci's character ranted that he wanted people to know it is he who is supplying drugs etc so i dunno, maybe he just hates MJ's music.<br /><br />Lots of cool things in this like MJ turning into a car and a robot and the whole Speed Demon sequence. Also, the director must have had the patience of a saint when it came to filming the kiddy Bad sequence as usually directors hate working with one kid let alone a whole bunch of them performing a complex dance scene.<br /><br />Bottom line, this movie is for people who like MJ on one level or another (which i think is most people). If not, then stay away. It does try and give off a wholesome message and ironically MJ's bestest buddy in this movie is a girl! Michael Jackson is truly one of the most talented people ever to grace this planet but is he guilty? Well, with all the attention i've gave this subject....hmmm well i don't know because people can be different behind closed doors, i know this for a fact. He is either an extremely nice but stupid guy or one of the most sickest liars. I hope he is not the latter.\"\n"
     ]
    }
   ],
   "execution_count": 32
  },
  {
   "metadata": {},
   "cell_type": "markdown",
   "source": "## 2. 数据清洗",
   "id": "4a04f171a421fa3c"
  },
  {
   "metadata": {
    "ExecuteTime": {
     "end_time": "2025-10-15T01:43:56.680313Z",
     "start_time": "2025-10-15T01:43:15.974239Z"
    }
   },
   "cell_type": "code",
   "source": [
    "from bs4 import BeautifulSoup\n",
    "import re\n",
    "from nltk.corpus import stopwords\n",
    "def review_to_words(raw_review):\n",
    "    # 删除HTML标签\n",
    "    review_text = BeautifulSoup(raw_review, \"html.parser\").get_text()\n",
    "    # 去除标点和数字\n",
    "    letters_only = re.sub(\"[^a-zA-Z]\", \" \", review_text)\n",
    "    # 小写、分词\n",
    "    words = letters_only.lower().split()\n",
    "    # 去除停用词\n",
    "    # 转为集合提高效率\n",
    "    stop_words = set(stopwords.words(\"english\"))\n",
    "    review_cleaned = [w for w in words if not w in stop_words]\n",
    "    return review_cleaned\n",
    "\n",
    "\n",
    "# train[\"review_cleaned\"] = train[\"review\"].apply(review_to_words)\n",
    "# print(train[\"review_cleaned\"].head())\n",
    "\n",
    "# 处理训练集数据\n",
    "train_num_reviews = train[\"review\"].size\n",
    "clean_train_review = []\n",
    "for i in range(0, train_num_reviews):\n",
    "    if (i+1) % 1000 == 0:\n",
    "        print(\"train review %d of %d\\n\" % (i+1, train_num_reviews))\n",
    "    clean_train_review.append(\" \".join(review_to_words(train[\"review\"][i])))\n",
    "\n",
    "# 处理测试集数据\n",
    "test_num_reviews = test[\"review\"].size\n",
    "clean_test_review = []\n",
    "for i in range(0, test_num_reviews):\n",
    "    if (i+1) % 1000 == 0:\n",
    "        print(\"test review %d of %d\\n\" % (i+1, test_num_reviews))\n",
    "    clean_test_review.append(\" \".join(review_to_words(test[\"review\"][i])))\n",
    "\n",
    "print(clean_train_review[0])"
   ],
   "id": "273bfe2c9174c7c6",
   "outputs": [
    {
     "name": "stderr",
     "output_type": "stream",
     "text": [
      "C:\\Users\\LENOVO\\AppData\\Local\\Temp\\ipykernel_25468\\2178965207.py:6: MarkupResemblesLocatorWarning: The input looks more like a filename than markup. You may want to open this file and pass the filehandle into Beautiful Soup.\n",
      "  review_text = BeautifulSoup(raw_review, \"html.parser\").get_text()\n"
     ]
    },
    {
     "name": "stdout",
     "output_type": "stream",
     "text": [
      "train review 1000 of 25000\n",
      "\n",
      "train review 2000 of 25000\n",
      "\n",
      "train review 3000 of 25000\n",
      "\n",
      "train review 4000 of 25000\n",
      "\n",
      "train review 5000 of 25000\n",
      "\n",
      "train review 6000 of 25000\n",
      "\n",
      "train review 7000 of 25000\n",
      "\n",
      "train review 8000 of 25000\n",
      "\n",
      "train review 9000 of 25000\n",
      "\n",
      "train review 10000 of 25000\n",
      "\n",
      "train review 11000 of 25000\n",
      "\n",
      "train review 12000 of 25000\n",
      "\n",
      "train review 13000 of 25000\n",
      "\n",
      "train review 14000 of 25000\n",
      "\n",
      "train review 15000 of 25000\n",
      "\n",
      "train review 16000 of 25000\n",
      "\n",
      "train review 17000 of 25000\n",
      "\n",
      "train review 18000 of 25000\n",
      "\n",
      "train review 19000 of 25000\n",
      "\n",
      "train review 20000 of 25000\n",
      "\n",
      "train review 21000 of 25000\n",
      "\n",
      "train review 22000 of 25000\n",
      "\n",
      "train review 23000 of 25000\n",
      "\n",
      "train review 24000 of 25000\n",
      "\n",
      "train review 25000 of 25000\n",
      "\n",
      "test review 1000 of 25000\n",
      "\n",
      "test review 2000 of 25000\n",
      "\n",
      "test review 3000 of 25000\n",
      "\n",
      "test review 4000 of 25000\n",
      "\n",
      "test review 5000 of 25000\n",
      "\n",
      "test review 6000 of 25000\n",
      "\n",
      "test review 7000 of 25000\n",
      "\n",
      "test review 8000 of 25000\n",
      "\n",
      "test review 9000 of 25000\n",
      "\n",
      "test review 10000 of 25000\n",
      "\n",
      "test review 11000 of 25000\n",
      "\n",
      "test review 12000 of 25000\n",
      "\n",
      "test review 13000 of 25000\n",
      "\n",
      "test review 14000 of 25000\n",
      "\n",
      "test review 15000 of 25000\n",
      "\n",
      "test review 16000 of 25000\n",
      "\n",
      "test review 17000 of 25000\n",
      "\n",
      "test review 18000 of 25000\n",
      "\n",
      "test review 19000 of 25000\n",
      "\n",
      "test review 20000 of 25000\n",
      "\n",
      "test review 21000 of 25000\n",
      "\n",
      "test review 22000 of 25000\n",
      "\n",
      "test review 23000 of 25000\n",
      "\n",
      "test review 24000 of 25000\n",
      "\n",
      "test review 25000 of 25000\n",
      "\n",
      "stuff going moment mj started listening music watching odd documentary watched wiz watched moonwalker maybe want get certain insight guy thought really cool eighties maybe make mind whether guilty innocent moonwalker part biography part feature film remember going see cinema originally released subtle messages mj feeling towards press also obvious message drugs bad kay visually impressive course michael jackson unless remotely like mj anyway going hate find boring may call mj egotist consenting making movie mj fans would say made fans true really nice actual feature film bit finally starts minutes excluding smooth criminal sequence joe pesci convincing psychopathic powerful drug lord wants mj dead bad beyond mj overheard plans nah joe pesci character ranted wanted people know supplying drugs etc dunno maybe hates mj music lots cool things like mj turning car robot whole speed demon sequence also director must patience saint came filming kiddy bad sequence usually directors hate working one kid let alone whole bunch performing complex dance scene bottom line movie people like mj one level another think people stay away try give wholesome message ironically mj bestest buddy movie girl michael jackson truly one talented people ever grace planet guilty well attention gave subject hmmm well know people different behind closed doors know fact either extremely nice stupid guy one sickest liars hope latter\n"
     ]
    }
   ],
   "execution_count": 37
  },
  {
   "metadata": {},
   "cell_type": "markdown",
   "source": "## 3. 创建特征向量",
   "id": "57f3bb83ba9a2773"
  },
  {
   "metadata": {
    "ExecuteTime": {
     "end_time": "2025-10-15T01:44:00.341431Z",
     "start_time": "2025-10-15T01:43:56.690462Z"
    }
   },
   "cell_type": "code",
   "source": [
    "from sklearn.feature_extraction.text import CountVectorizer\n",
    "# 初始化\n",
    "vectorizer = CountVectorizer(analyzer = \"word\",\n",
    "                             tokenizer = None,\n",
    "                             preprocessor = None,\n",
    "                             stop_words = None,\n",
    "                             max_features = 5000)\n",
    "# 转为特征向量\n",
    "train_data_features = vectorizer.fit_transform(clean_train_review)\n",
    "train_data_features = train_data_features.toarray()\n",
    "test_data_features = vectorizer.transform(clean_test_review)\n",
    "test_data_features = test_data_features.toarray()\n",
    "\n",
    "# 获取词汇表\n",
    "vocab = vectorizer.get_feature_names_out()\n",
    "\n",
    "print(vocab)\n",
    "print(train_data_features.shape)"
   ],
   "id": "bd5f69c927d56d01",
   "outputs": [
    {
     "name": "stdout",
     "output_type": "stream",
     "text": [
      "['abandoned' 'abc' 'abilities' ... 'zombie' 'zombies' 'zone']\n",
      "(25000, 5000)\n"
     ]
    }
   ],
   "execution_count": 38
  },
  {
   "metadata": {},
   "cell_type": "markdown",
   "source": "# 二、模型训练",
   "id": "f268a94127722e27"
  },
  {
   "metadata": {
    "ExecuteTime": {
     "end_time": "2025-10-15T01:45:21.182156Z",
     "start_time": "2025-10-15T01:44:02.375935Z"
    }
   },
   "cell_type": "code",
   "source": [
    "from sklearn.ensemble import RandomForestClassifier\n",
    "\n",
    "# 创建随机森林\n",
    "forest = RandomForestClassifier(n_estimators = 100)\n",
    "# 模型训练\n",
    "forest = forest.fit(train_data_features, train[\"sentiment\"])"
   ],
   "id": "269b449397fc974b",
   "outputs": [],
   "execution_count": 39
  },
  {
   "metadata": {},
   "cell_type": "markdown",
   "source": "# 三、模型预测",
   "id": "7800f7c0a52381ef"
  },
  {
   "metadata": {
    "ExecuteTime": {
     "end_time": "2025-10-15T01:45:23.681628Z",
     "start_time": "2025-10-15T01:45:21.228261Z"
    }
   },
   "cell_type": "code",
   "source": [
    "result = forest.predict(test_data_features)\n",
    "output = pd.DataFrame( data={\"id\":test[\"id\"], \"sentiment\":result} )\n",
    "\n",
    "# 将输出结果保存在csv文件中\n",
    "output.to_csv( \"Bag_of_Words_model.csv\", index=False, quoting=3 )"
   ],
   "id": "3d30cfcf3db2754a",
   "outputs": [],
   "execution_count": 40
  }
 ],
 "metadata": {
  "kernelspec": {
   "display_name": "Python 3",
   "language": "python",
   "name": "python3"
  },
  "language_info": {
   "codemirror_mode": {
    "name": "ipython",
    "version": 2
   },
   "file_extension": ".py",
   "mimetype": "text/x-python",
   "name": "python",
   "nbconvert_exporter": "python",
   "pygments_lexer": "ipython2",
   "version": "2.7.6"
  }
 },
 "nbformat": 4,
 "nbformat_minor": 5
}
